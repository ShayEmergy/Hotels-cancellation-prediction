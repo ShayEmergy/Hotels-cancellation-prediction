{
 "cells": [
  {
   "cell_type": "markdown",
   "id": "f65e9010-4ffb-45ed-a80b-d3a4adbaf783",
   "metadata": {},
   "source": [
    "# Hotels Cancellations Prediction \n",
    "### Project goal\n",
    "Predict whether a booking will be cancelled based on a list of features, and define the cancellation fee accordingly.\n",
    "\n",
    "### Setup Libraries "
   ]
  },
  {
   "cell_type": "code",
   "execution_count": 62,
   "id": "84d3d87e-b771-453e-ba33-a8a5907d5506",
   "metadata": {},
   "outputs": [],
   "source": [
    "import pandas as pd\n",
    "import numpy as np\n",
    "import matplotlib.pyplot as plt"
   ]
  },
  {
   "cell_type": "markdown",
   "id": "aa603023-a70a-4bb7-9618-35ceaaebd75b",
   "metadata": {},
   "source": [
    "### Import Data \n",
    "Dataset source - https://www.kaggle.com/datasets/jessemostipak/hotel-booking-demand?resource=download\n",
    "\n",
    "The hotel booking demand dataset is a comprehensive collection of information about hotel reservations, containing details from two types of hotels: a city hotel and a resort hotel. This dataset encompasses a wide range of variables related to bookings, including arrival dates, length of stay, number of guests, and other factors that can influence hotel demand and cancellations."
   ]
  },
  {
   "cell_type": "code",
   "execution_count": 63,
   "id": "a129d0b4-40fa-40cf-a087-7f49b5f90fe4",
   "metadata": {},
   "outputs": [],
   "source": [
    "hotels = pd.read_csv(\"/Users/semergy/Downloads/hotel_bookings.csv\")"
   ]
  },
  {
   "cell_type": "code",
   "execution_count": 64,
   "id": "4de1f122-63be-45e1-90db-3acdd042254f",
   "metadata": {},
   "outputs": [
    {
     "data": {
      "text/html": [
       "<div>\n",
       "<style scoped>\n",
       "    .dataframe tbody tr th:only-of-type {\n",
       "        vertical-align: middle;\n",
       "    }\n",
       "\n",
       "    .dataframe tbody tr th {\n",
       "        vertical-align: top;\n",
       "    }\n",
       "\n",
       "    .dataframe thead th {\n",
       "        text-align: right;\n",
       "    }\n",
       "</style>\n",
       "<table border=\"1\" class=\"dataframe\">\n",
       "  <thead>\n",
       "    <tr style=\"text-align: right;\">\n",
       "      <th></th>\n",
       "      <th>hotel</th>\n",
       "      <th>is_canceled</th>\n",
       "      <th>lead_time</th>\n",
       "      <th>arrival_date_year</th>\n",
       "      <th>arrival_date_month</th>\n",
       "      <th>arrival_date_week_number</th>\n",
       "      <th>arrival_date_day_of_month</th>\n",
       "      <th>stays_in_weekend_nights</th>\n",
       "      <th>stays_in_week_nights</th>\n",
       "      <th>adults</th>\n",
       "      <th>...</th>\n",
       "      <th>deposit_type</th>\n",
       "      <th>agent</th>\n",
       "      <th>company</th>\n",
       "      <th>days_in_waiting_list</th>\n",
       "      <th>customer_type</th>\n",
       "      <th>adr</th>\n",
       "      <th>required_car_parking_spaces</th>\n",
       "      <th>total_of_special_requests</th>\n",
       "      <th>reservation_status</th>\n",
       "      <th>reservation_status_date</th>\n",
       "    </tr>\n",
       "  </thead>\n",
       "  <tbody>\n",
       "    <tr>\n",
       "      <th>0</th>\n",
       "      <td>Resort Hotel</td>\n",
       "      <td>0</td>\n",
       "      <td>342</td>\n",
       "      <td>2015</td>\n",
       "      <td>July</td>\n",
       "      <td>27</td>\n",
       "      <td>1</td>\n",
       "      <td>0</td>\n",
       "      <td>0</td>\n",
       "      <td>2</td>\n",
       "      <td>...</td>\n",
       "      <td>No Deposit</td>\n",
       "      <td>NaN</td>\n",
       "      <td>NaN</td>\n",
       "      <td>0</td>\n",
       "      <td>Transient</td>\n",
       "      <td>0.0</td>\n",
       "      <td>0</td>\n",
       "      <td>0</td>\n",
       "      <td>Check-Out</td>\n",
       "      <td>2015-07-01</td>\n",
       "    </tr>\n",
       "    <tr>\n",
       "      <th>1</th>\n",
       "      <td>Resort Hotel</td>\n",
       "      <td>0</td>\n",
       "      <td>737</td>\n",
       "      <td>2015</td>\n",
       "      <td>July</td>\n",
       "      <td>27</td>\n",
       "      <td>1</td>\n",
       "      <td>0</td>\n",
       "      <td>0</td>\n",
       "      <td>2</td>\n",
       "      <td>...</td>\n",
       "      <td>No Deposit</td>\n",
       "      <td>NaN</td>\n",
       "      <td>NaN</td>\n",
       "      <td>0</td>\n",
       "      <td>Transient</td>\n",
       "      <td>0.0</td>\n",
       "      <td>0</td>\n",
       "      <td>0</td>\n",
       "      <td>Check-Out</td>\n",
       "      <td>2015-07-01</td>\n",
       "    </tr>\n",
       "    <tr>\n",
       "      <th>2</th>\n",
       "      <td>Resort Hotel</td>\n",
       "      <td>0</td>\n",
       "      <td>7</td>\n",
       "      <td>2015</td>\n",
       "      <td>July</td>\n",
       "      <td>27</td>\n",
       "      <td>1</td>\n",
       "      <td>0</td>\n",
       "      <td>1</td>\n",
       "      <td>1</td>\n",
       "      <td>...</td>\n",
       "      <td>No Deposit</td>\n",
       "      <td>NaN</td>\n",
       "      <td>NaN</td>\n",
       "      <td>0</td>\n",
       "      <td>Transient</td>\n",
       "      <td>75.0</td>\n",
       "      <td>0</td>\n",
       "      <td>0</td>\n",
       "      <td>Check-Out</td>\n",
       "      <td>2015-07-02</td>\n",
       "    </tr>\n",
       "    <tr>\n",
       "      <th>3</th>\n",
       "      <td>Resort Hotel</td>\n",
       "      <td>0</td>\n",
       "      <td>13</td>\n",
       "      <td>2015</td>\n",
       "      <td>July</td>\n",
       "      <td>27</td>\n",
       "      <td>1</td>\n",
       "      <td>0</td>\n",
       "      <td>1</td>\n",
       "      <td>1</td>\n",
       "      <td>...</td>\n",
       "      <td>No Deposit</td>\n",
       "      <td>304.0</td>\n",
       "      <td>NaN</td>\n",
       "      <td>0</td>\n",
       "      <td>Transient</td>\n",
       "      <td>75.0</td>\n",
       "      <td>0</td>\n",
       "      <td>0</td>\n",
       "      <td>Check-Out</td>\n",
       "      <td>2015-07-02</td>\n",
       "    </tr>\n",
       "    <tr>\n",
       "      <th>4</th>\n",
       "      <td>Resort Hotel</td>\n",
       "      <td>0</td>\n",
       "      <td>14</td>\n",
       "      <td>2015</td>\n",
       "      <td>July</td>\n",
       "      <td>27</td>\n",
       "      <td>1</td>\n",
       "      <td>0</td>\n",
       "      <td>2</td>\n",
       "      <td>2</td>\n",
       "      <td>...</td>\n",
       "      <td>No Deposit</td>\n",
       "      <td>240.0</td>\n",
       "      <td>NaN</td>\n",
       "      <td>0</td>\n",
       "      <td>Transient</td>\n",
       "      <td>98.0</td>\n",
       "      <td>0</td>\n",
       "      <td>1</td>\n",
       "      <td>Check-Out</td>\n",
       "      <td>2015-07-03</td>\n",
       "    </tr>\n",
       "  </tbody>\n",
       "</table>\n",
       "<p>5 rows × 32 columns</p>\n",
       "</div>"
      ],
      "text/plain": [
       "          hotel  is_canceled  lead_time  arrival_date_year arrival_date_month  \\\n",
       "0  Resort Hotel            0        342               2015               July   \n",
       "1  Resort Hotel            0        737               2015               July   \n",
       "2  Resort Hotel            0          7               2015               July   \n",
       "3  Resort Hotel            0         13               2015               July   \n",
       "4  Resort Hotel            0         14               2015               July   \n",
       "\n",
       "   arrival_date_week_number  arrival_date_day_of_month  \\\n",
       "0                        27                          1   \n",
       "1                        27                          1   \n",
       "2                        27                          1   \n",
       "3                        27                          1   \n",
       "4                        27                          1   \n",
       "\n",
       "   stays_in_weekend_nights  stays_in_week_nights  adults  ...  deposit_type  \\\n",
       "0                        0                     0       2  ...    No Deposit   \n",
       "1                        0                     0       2  ...    No Deposit   \n",
       "2                        0                     1       1  ...    No Deposit   \n",
       "3                        0                     1       1  ...    No Deposit   \n",
       "4                        0                     2       2  ...    No Deposit   \n",
       "\n",
       "   agent company days_in_waiting_list customer_type   adr  \\\n",
       "0    NaN     NaN                    0     Transient   0.0   \n",
       "1    NaN     NaN                    0     Transient   0.0   \n",
       "2    NaN     NaN                    0     Transient  75.0   \n",
       "3  304.0     NaN                    0     Transient  75.0   \n",
       "4  240.0     NaN                    0     Transient  98.0   \n",
       "\n",
       "   required_car_parking_spaces  total_of_special_requests  reservation_status  \\\n",
       "0                            0                          0           Check-Out   \n",
       "1                            0                          0           Check-Out   \n",
       "2                            0                          0           Check-Out   \n",
       "3                            0                          0           Check-Out   \n",
       "4                            0                          1           Check-Out   \n",
       "\n",
       "  reservation_status_date  \n",
       "0              2015-07-01  \n",
       "1              2015-07-01  \n",
       "2              2015-07-02  \n",
       "3              2015-07-02  \n",
       "4              2015-07-03  \n",
       "\n",
       "[5 rows x 32 columns]"
      ]
     },
     "execution_count": 64,
     "metadata": {},
     "output_type": "execute_result"
    }
   ],
   "source": [
    "hotels.head() "
   ]
  },
  {
   "cell_type": "code",
   "execution_count": 65,
   "id": "ea61389f-8475-4f5a-a086-11ab03cb49a0",
   "metadata": {
    "scrolled": true
   },
   "outputs": [
    {
     "name": "stdout",
     "output_type": "stream",
     "text": [
      "<class 'pandas.core.frame.DataFrame'>\n",
      "RangeIndex: 119390 entries, 0 to 119389\n",
      "Data columns (total 32 columns):\n",
      " #   Column                          Non-Null Count   Dtype  \n",
      "---  ------                          --------------   -----  \n",
      " 0   hotel                           119390 non-null  object \n",
      " 1   is_canceled                     119390 non-null  int64  \n",
      " 2   lead_time                       119390 non-null  int64  \n",
      " 3   arrival_date_year               119390 non-null  int64  \n",
      " 4   arrival_date_month              119390 non-null  object \n",
      " 5   arrival_date_week_number        119390 non-null  int64  \n",
      " 6   arrival_date_day_of_month       119390 non-null  int64  \n",
      " 7   stays_in_weekend_nights         119390 non-null  int64  \n",
      " 8   stays_in_week_nights            119390 non-null  int64  \n",
      " 9   adults                          119390 non-null  int64  \n",
      " 10  children                        119386 non-null  float64\n",
      " 11  babies                          119390 non-null  int64  \n",
      " 12  meal                            119390 non-null  object \n",
      " 13  country                         118902 non-null  object \n",
      " 14  market_segment                  119390 non-null  object \n",
      " 15  distribution_channel            119390 non-null  object \n",
      " 16  is_repeated_guest               119390 non-null  int64  \n",
      " 17  previous_cancellations          119390 non-null  int64  \n",
      " 18  previous_bookings_not_canceled  119390 non-null  int64  \n",
      " 19  reserved_room_type              119390 non-null  object \n",
      " 20  assigned_room_type              119390 non-null  object \n",
      " 21  booking_changes                 119390 non-null  int64  \n",
      " 22  deposit_type                    119390 non-null  object \n",
      " 23  agent                           103050 non-null  float64\n",
      " 24  company                         6797 non-null    float64\n",
      " 25  days_in_waiting_list            119390 non-null  int64  \n",
      " 26  customer_type                   119390 non-null  object \n",
      " 27  adr                             119390 non-null  float64\n",
      " 28  required_car_parking_spaces     119390 non-null  int64  \n",
      " 29  total_of_special_requests       119390 non-null  int64  \n",
      " 30  reservation_status              119390 non-null  object \n",
      " 31  reservation_status_date         119390 non-null  object \n",
      "dtypes: float64(4), int64(16), object(12)\n",
      "memory usage: 29.1+ MB\n"
     ]
    }
   ],
   "source": [
    "hotels.info() "
   ]
  },
  {
   "cell_type": "markdown",
   "id": "63511478-4f3b-4248-adc5-486d8ab32e5c",
   "metadata": {},
   "source": [
    "### Defining the Target Variable (y): Hotel Reservation Status\n",
    "Our prediction target, y, is the 'reservation_status' column. This variable represents the final status of each booking and has three possible outcomes:\n",
    "\n",
    "- `Checked-Out`: The guest completed their stay as planned.\n",
    "- `Canceled`: The reservation was canceled before the stay.\n",
    "- `No-Show`: The guest did not arrive and did not cancel the reservation."
   ]
  },
  {
   "cell_type": "code",
   "execution_count": 66,
   "id": "fd576b34-6575-44e5-8a69-f77b908dd196",
   "metadata": {},
   "outputs": [
    {
     "name": "stdout",
     "output_type": "stream",
     "text": [
      "reservation_status\n",
      "Check-Out    0.629584\n",
      "Canceled     0.360307\n",
      "No-Show      0.010110\n",
      "Name: proportion, dtype: float64\n"
     ]
    },
    {
     "data": {
      "image/png": "[encoded data removed]",
      "text/plain": [
       "<Figure size 500x300 with 1 Axes>"
      ]
     },
     "metadata": {},
     "output_type": "display_data"
    }
   ],
   "source": [
    "reservation_status_counts = hotels['reservation_status'].value_counts(1)\n",
    "print(reservation_status_counts)\n",
    "\n",
    "plt.figure(figsize=(5, 3))\n",
    "plt.pie(reservation_status_counts.values, \n",
    "        labels=reservation_status_counts.index, \n",
    "        autopct='%1.1f%%', \n",
    "        startangle=90, \n",
    "        colors=['#ff9999', '#66b3ff', '#99ff99'])  # Added a third color\n",
    "\n",
    "# Add a title\n",
    "plt.title('Hotel Booking Status Distribution', fontsize=12)\n",
    "# Ensure the pie chart is drawn as a circle\n",
    "plt.axis('equal')\n",
    "# Display the chart\n",
    "plt.show()"
   ]
  },
  {
   "cell_type": "markdown",
   "id": "e7b8562f-d9b4-4ba4-8a32-bcea12085875",
   "metadata": {},
   "source": [
    "### Data Exploarion \n",
    "Early data exploration indicates that there's a higher cancellation rate in the summer months."
   ]
  },
  {
   "cell_type": "code",
   "execution_count": 67,
   "id": "8cd79f80-1491-40dd-9dfa-0413752b8764",
   "metadata": {},
   "outputs": [
    {
     "data": {
      "text/plain": [
       "(0.0, 0.5)"
      ]
     },
     "execution_count": 67,
     "metadata": {},
     "output_type": "execute_result"
    },
    {
     "data": {
      "image/png": "[encoded data removed]",
      "text/plain": [
       "<Figure size 500x200 with 1 Axes>"
      ]
     },
     "metadata": {},
     "output_type": "display_data"
    }
   ],
   "source": [
    "hotel_cancellation_per_month = hotels.groupby('arrival_date_month')['is_canceled'].mean()\n",
    "# Sort the data by month\n",
    "month_order = ['January', 'February', 'March', 'April', 'May', 'June', \n",
    "               'July', 'August', 'September', 'October', 'November', 'December']\n",
    "hotel_cancellation_per_month = hotel_cancellation_per_month.reindex(month_order)\n",
    "# Create the bar plot\n",
    "plt.figure(figsize=(5, 2))\n",
    "bars = plt.bar(hotel_cancellation_per_month.index, hotel_cancellation_per_month.values)\n",
    "# Customize the plot\n",
    "plt.title('Hotel Cancellation Rates per Month', fontsize=10)\n",
    "plt.xlabel('Month', fontsize=9)\n",
    "plt.ylabel('Cancellation Rate', fontsize=9)\n",
    "plt.xticks(rotation=45, ha='right', fontsize=9)\n",
    "plt.yticks(fontsize=6)\n",
    "plt.ylim(0, 0.5)  # Set y-axis limit from 0 to 0.5 for better visualization"
   ]
  },
  {
   "cell_type": "markdown",
   "id": "2a14661f-fe8c-452d-8c8b-e4730a70930a",
   "metadata": {},
   "source": [
    "### Data Cleanup and Preperation"
   ]
  },
  {
   "cell_type": "markdown",
   "id": "05d52465-1c88-4acc-90dd-628fa4bb7245",
   "metadata": {},
   "source": [
    "Removing the `is_canceled` column to prevent data leakage. This column directly indicates the reservation outcome, which is highly correlated with our target variable `reservation_status`. Including it would lead to an overfitted model that relies on information not available at the time of prediction, resulting in unreliable performance on new data.\n"
   ]
  },
  {
   "cell_type": "code",
   "execution_count": 68,
   "id": "a773a273-d460-46f0-a5a8-7e24798241a9",
   "metadata": {},
   "outputs": [],
   "source": [
    "hotels = hotels.drop(labels='is_canceled', axis=1)"
   ]
  },
  {
   "cell_type": "markdown",
   "id": "c4b99480-1c0c-46aa-88f2-06e007afa916",
   "metadata": {},
   "source": [
    "To enhance model reliability and focus on relevant features, we'll remove columns with excessive missing values or those likely to introduce noise. We'll exclude the following columns:\n",
    "\n",
    "- `agent` and `company`: Contain many missing values and may not generalize well.\n",
    "- `arrival_date_day_of_month`, `arrival_date_year`, `arrival_date_week_number`: Redundant or too specific; we'll retain more general date information.\n",
    "`country`: May lead to overfitting on geographical data that might not be predictive of cancellation behavior.\n",
    "\n",
    "This process will help streamline our dataset and improve the model's ability to generalize to new bookings."
   ]
  },
  {
   "cell_type": "code",
   "execution_count": 69,
   "id": "e61f6992-871c-4270-ac40-f6d247ab09f3",
   "metadata": {},
   "outputs": [],
   "source": [
    "irrelevant_colls = ['agent', 'company', 'reservation_status_date', 'arrival_date_day_of_month', 'arrival_date_year', 'arrival_date_week_number', 'country']\n",
    "hotels = hotels.drop(labels=irrelevant_colls, axis=1)"
   ]
  },
  {
   "cell_type": "markdown",
   "id": "53a4c1a1-8198-407d-99cb-1d4b11a4adfb",
   "metadata": {},
   "source": [
    "To prepare our dataset for model training, we need to convert categorical variables into a numerical format. We'll use one-hot encoding for columns with nominal categorical data, such as `deposit_type`. This process creates binary columns for each category, allowing the model to effectively use this information without implying any ordinal relationship between categories."
   ]
  },
  {
   "cell_type": "code",
   "execution_count": 70,
   "id": "0205d3c9-e0c3-4066-9934-d4ee09945800",
   "metadata": {},
   "outputs": [
    {
     "data": {
      "text/html": [
       "<div>\n",
       "<style scoped>\n",
       "    .dataframe tbody tr th:only-of-type {\n",
       "        vertical-align: middle;\n",
       "    }\n",
       "\n",
       "    .dataframe tbody tr th {\n",
       "        vertical-align: top;\n",
       "    }\n",
       "\n",
       "    .dataframe thead th {\n",
       "        text-align: right;\n",
       "    }\n",
       "</style>\n",
       "<table border=\"1\" class=\"dataframe\">\n",
       "  <thead>\n",
       "    <tr style=\"text-align: right;\">\n",
       "      <th></th>\n",
       "      <th>lead_time</th>\n",
       "      <th>stays_in_weekend_nights</th>\n",
       "      <th>stays_in_week_nights</th>\n",
       "      <th>adults</th>\n",
       "      <th>children</th>\n",
       "      <th>babies</th>\n",
       "      <th>is_repeated_guest</th>\n",
       "      <th>previous_cancellations</th>\n",
       "      <th>previous_bookings_not_canceled</th>\n",
       "      <th>booking_changes</th>\n",
       "      <th>...</th>\n",
       "      <th>arrival_date_month_November</th>\n",
       "      <th>arrival_date_month_October</th>\n",
       "      <th>arrival_date_month_September</th>\n",
       "      <th>deposit_type_No Deposit</th>\n",
       "      <th>deposit_type_Non Refund</th>\n",
       "      <th>deposit_type_Refundable</th>\n",
       "      <th>customer_type_Contract</th>\n",
       "      <th>customer_type_Group</th>\n",
       "      <th>customer_type_Transient</th>\n",
       "      <th>customer_type_Transient-Party</th>\n",
       "    </tr>\n",
       "  </thead>\n",
       "  <tbody>\n",
       "    <tr>\n",
       "      <th>0</th>\n",
       "      <td>342</td>\n",
       "      <td>0</td>\n",
       "      <td>0</td>\n",
       "      <td>2</td>\n",
       "      <td>0.0</td>\n",
       "      <td>0</td>\n",
       "      <td>0</td>\n",
       "      <td>0</td>\n",
       "      <td>0</td>\n",
       "      <td>3</td>\n",
       "      <td>...</td>\n",
       "      <td>0</td>\n",
       "      <td>0</td>\n",
       "      <td>0</td>\n",
       "      <td>1</td>\n",
       "      <td>0</td>\n",
       "      <td>0</td>\n",
       "      <td>0</td>\n",
       "      <td>0</td>\n",
       "      <td>1</td>\n",
       "      <td>0</td>\n",
       "    </tr>\n",
       "    <tr>\n",
       "      <th>1</th>\n",
       "      <td>737</td>\n",
       "      <td>0</td>\n",
       "      <td>0</td>\n",
       "      <td>2</td>\n",
       "      <td>0.0</td>\n",
       "      <td>0</td>\n",
       "      <td>0</td>\n",
       "      <td>0</td>\n",
       "      <td>0</td>\n",
       "      <td>4</td>\n",
       "      <td>...</td>\n",
       "      <td>0</td>\n",
       "      <td>0</td>\n",
       "      <td>0</td>\n",
       "      <td>1</td>\n",
       "      <td>0</td>\n",
       "      <td>0</td>\n",
       "      <td>0</td>\n",
       "      <td>0</td>\n",
       "      <td>1</td>\n",
       "      <td>0</td>\n",
       "    </tr>\n",
       "    <tr>\n",
       "      <th>2</th>\n",
       "      <td>7</td>\n",
       "      <td>0</td>\n",
       "      <td>1</td>\n",
       "      <td>1</td>\n",
       "      <td>0.0</td>\n",
       "      <td>0</td>\n",
       "      <td>0</td>\n",
       "      <td>0</td>\n",
       "      <td>0</td>\n",
       "      <td>0</td>\n",
       "      <td>...</td>\n",
       "      <td>0</td>\n",
       "      <td>0</td>\n",
       "      <td>0</td>\n",
       "      <td>1</td>\n",
       "      <td>0</td>\n",
       "      <td>0</td>\n",
       "      <td>0</td>\n",
       "      <td>0</td>\n",
       "      <td>1</td>\n",
       "      <td>0</td>\n",
       "    </tr>\n",
       "    <tr>\n",
       "      <th>3</th>\n",
       "      <td>13</td>\n",
       "      <td>0</td>\n",
       "      <td>1</td>\n",
       "      <td>1</td>\n",
       "      <td>0.0</td>\n",
       "      <td>0</td>\n",
       "      <td>0</td>\n",
       "      <td>0</td>\n",
       "      <td>0</td>\n",
       "      <td>0</td>\n",
       "      <td>...</td>\n",
       "      <td>0</td>\n",
       "      <td>0</td>\n",
       "      <td>0</td>\n",
       "      <td>1</td>\n",
       "      <td>0</td>\n",
       "      <td>0</td>\n",
       "      <td>0</td>\n",
       "      <td>0</td>\n",
       "      <td>1</td>\n",
       "      <td>0</td>\n",
       "    </tr>\n",
       "    <tr>\n",
       "      <th>4</th>\n",
       "      <td>14</td>\n",
       "      <td>0</td>\n",
       "      <td>2</td>\n",
       "      <td>2</td>\n",
       "      <td>0.0</td>\n",
       "      <td>0</td>\n",
       "      <td>0</td>\n",
       "      <td>0</td>\n",
       "      <td>0</td>\n",
       "      <td>0</td>\n",
       "      <td>...</td>\n",
       "      <td>0</td>\n",
       "      <td>0</td>\n",
       "      <td>0</td>\n",
       "      <td>1</td>\n",
       "      <td>0</td>\n",
       "      <td>0</td>\n",
       "      <td>0</td>\n",
       "      <td>0</td>\n",
       "      <td>1</td>\n",
       "      <td>0</td>\n",
       "    </tr>\n",
       "  </tbody>\n",
       "</table>\n",
       "<p>5 rows × 76 columns</p>\n",
       "</div>"
      ],
      "text/plain": [
       "   lead_time  stays_in_weekend_nights  stays_in_week_nights  adults  children  \\\n",
       "0        342                        0                     0       2       0.0   \n",
       "1        737                        0                     0       2       0.0   \n",
       "2          7                        0                     1       1       0.0   \n",
       "3         13                        0                     1       1       0.0   \n",
       "4         14                        0                     2       2       0.0   \n",
       "\n",
       "   babies  is_repeated_guest  previous_cancellations  \\\n",
       "0       0                  0                       0   \n",
       "1       0                  0                       0   \n",
       "2       0                  0                       0   \n",
       "3       0                  0                       0   \n",
       "4       0                  0                       0   \n",
       "\n",
       "   previous_bookings_not_canceled  booking_changes  ...  \\\n",
       "0                               0                3  ...   \n",
       "1                               0                4  ...   \n",
       "2                               0                0  ...   \n",
       "3                               0                0  ...   \n",
       "4                               0                0  ...   \n",
       "\n",
       "   arrival_date_month_November  arrival_date_month_October  \\\n",
       "0                            0                           0   \n",
       "1                            0                           0   \n",
       "2                            0                           0   \n",
       "3                            0                           0   \n",
       "4                            0                           0   \n",
       "\n",
       "   arrival_date_month_September  deposit_type_No Deposit  \\\n",
       "0                             0                        1   \n",
       "1                             0                        1   \n",
       "2                             0                        1   \n",
       "3                             0                        1   \n",
       "4                             0                        1   \n",
       "\n",
       "  deposit_type_Non Refund  deposit_type_Refundable  customer_type_Contract  \\\n",
       "0                       0                        0                       0   \n",
       "1                       0                        0                       0   \n",
       "2                       0                        0                       0   \n",
       "3                       0                        0                       0   \n",
       "4                       0                        0                       0   \n",
       "\n",
       "   customer_type_Group  customer_type_Transient  customer_type_Transient-Party  \n",
       "0                    0                        1                              0  \n",
       "1                    0                        1                              0  \n",
       "2                    0                        1                              0  \n",
       "3                    0                        1                              0  \n",
       "4                    0                        1                              0  \n",
       "\n",
       "[5 rows x 76 columns]"
      ]
     },
     "execution_count": 70,
     "metadata": {},
     "output_type": "execute_result"
    }
   ],
   "source": [
    "categorial_data = ['distribution_channel', 'hotel', 'meal', 'market_segment', 'assigned_room_type', 'reserved_room_type', 'arrival_date_month', 'deposit_type', 'customer_type']\n",
    "hotels = pd.get_dummies(hotels, columns=categorial_data, dtype = int)\n",
    "\n",
    "hotels.head()"
   ]
  },
  {
   "cell_type": "markdown",
   "id": "78d54c12-7ca9-437b-be96-7ab7d4f03a4d",
   "metadata": {},
   "source": [
    "Encode the reservation_status column using label encoding instead of one-hot encoding. I chose this method because we need to maintain all values in a single column rather than creating separate binary columns. Label encoding assigns a unique integer to each category, preserving the column's structure while converting it to a numerical format suitable for model training. This approach is appropriate when we want to keep the target variable as a single column for certain types of models or analyses."
   ]
  },
  {
   "cell_type": "code",
   "execution_count": 71,
   "id": "889cdac7-c435-49c1-b860-5862b1cc313c",
   "metadata": {},
   "outputs": [],
   "source": [
    "hotels['reservation_status'] = hotels['reservation_status'].replace({'Check-Out':2, 'Canceled':1, 'No-Show':0})"
   ]
  },
  {
   "cell_type": "markdown",
   "id": "7ef9a77d-43fe-43d0-875e-4e0a3f1ab823",
   "metadata": {},
   "source": [
    "### Preparing Features (X) and Target (y) for Model Training "
   ]
  },
  {
   "cell_type": "markdown",
   "id": "ec47c48b-0497-4f61-bb49-d40dc09396ee",
   "metadata": {},
   "source": [
    "To prepare our data for model training and evaluation, we need to separate our features (predictors) from our target variable:\n",
    "\n",
    "- Features (`X`): We'll create a list of all columns except `reservation_status`. These features will be used to predict the booking outcome.\n",
    "- Target (`y`): We'll use the `reservation_status` column as our target variable, which we aim to predict.\n",
    "\n",
    "This separation allows us to train our model on the features while using the target variable to evaluate its performance."
   ]
  },
  {
   "cell_type": "code",
   "execution_count": 72,
   "id": "3064f4ef-3ca2-4d90-87e0-d84c12b05b12",
   "metadata": {},
   "outputs": [],
   "source": [
    "x_features = hotels.drop(['reservation_status'], axis=1)"
   ]
  },
  {
   "cell_type": "markdown",
   "id": "63d2f15f-6740-4915-b87e-2fb5be1ed789",
   "metadata": {},
   "source": [
    "Before training our model, it's crucial to address any missing values in our dataset. We'll identify and remove columns containing NaN (Not a Number) values:\n",
    "\n",
    "1. <b>Identify columns with NaN values</b>: We scan all feature columns to find those containing any missing data.\n",
    "2. <b>Remove affected columns</b>: Rather than imputing values, we opt to remove entire columns with missing data to ensure data integrity.\n",
    "3. <b>Document removed columns</b>: We keep track of which columns are removed, providing transparency in our data preprocessing steps."
   ]
  },
  {
   "cell_type": "code",
   "execution_count": 74,
   "id": "d0ac40cb-7598-483a-b81e-3718e4ef0c2e",
   "metadata": {},
   "outputs": [
    {
     "name": "stdout",
     "output_type": "stream",
     "text": [
      "Columns removed due to NaN values: ['children']\n"
     ]
    }
   ],
   "source": [
    "nan_columns = x_features.columns[x_features.isna().any()]\n",
    "x_features = x_features.drop(columns=nan_columns)\n",
    "print(\"Columns removed due to NaN values:\", nan_columns.tolist())\n",
    "\n",
    "# Cleanup: Remove zero-variance columns\n",
    "#zero_var_columns = x_features.columns[x_features.std() == 0]\n",
    "#x_features = x_features.drop(columns=zero_var_columns)\n",
    "#print(\"Columns removed due to zero variance:\", zero_var_columns.tolist())\n",
    "\n",
    "#print(\"X shape after cleaning:\", x_features.shape)"
   ]
  },
  {
   "cell_type": "markdown",
   "id": "a355820a-36ac-4506-97a5-dd55504f361b",
   "metadata": {},
   "source": [
    "After handling missing values, it's essential to ensure that our features are in the correct format for model training. Our goal is to confirm that all remaining features are either integers (int) or floating-point numbers (float). "
   ]
  },
  {
   "cell_type": "code",
   "execution_count": 76,
   "id": "f4c937fb-1fc7-4a80-974f-232708708e7b",
   "metadata": {},
   "outputs": [
    {
     "name": "stdout",
     "output_type": "stream",
     "text": [
      "<class 'pandas.core.frame.DataFrame'>\n",
      "RangeIndex: 119390 entries, 0 to 119389\n",
      "Data columns (total 74 columns):\n",
      " #   Column                          Non-Null Count   Dtype  \n",
      "---  ------                          --------------   -----  \n",
      " 0   lead_time                       119390 non-null  int64  \n",
      " 1   stays_in_weekend_nights         119390 non-null  int64  \n",
      " 2   stays_in_week_nights            119390 non-null  int64  \n",
      " 3   adults                          119390 non-null  int64  \n",
      " 4   babies                          119390 non-null  int64  \n",
      " 5   is_repeated_guest               119390 non-null  int64  \n",
      " 6   previous_cancellations          119390 non-null  int64  \n",
      " 7   previous_bookings_not_canceled  119390 non-null  int64  \n",
      " 8   booking_changes                 119390 non-null  int64  \n",
      " 9   days_in_waiting_list            119390 non-null  int64  \n",
      " 10  adr                             119390 non-null  float64\n",
      " 11  required_car_parking_spaces     119390 non-null  int64  \n",
      " 12  total_of_special_requests       119390 non-null  int64  \n",
      " 13  distribution_channel_Corporate  119390 non-null  int64  \n",
      " 14  distribution_channel_Direct     119390 non-null  int64  \n",
      " 15  distribution_channel_GDS        119390 non-null  int64  \n",
      " 16  distribution_channel_TA/TO      119390 non-null  int64  \n",
      " 17  distribution_channel_Undefined  119390 non-null  int64  \n",
      " 18  hotel_City Hotel                119390 non-null  int64  \n",
      " 19  hotel_Resort Hotel              119390 non-null  int64  \n",
      " 20  meal_BB                         119390 non-null  int64  \n",
      " 21  meal_FB                         119390 non-null  int64  \n",
      " 22  meal_HB                         119390 non-null  int64  \n",
      " 23  meal_SC                         119390 non-null  int64  \n",
      " 24  meal_Undefined                  119390 non-null  int64  \n",
      " 25  market_segment_Aviation         119390 non-null  int64  \n",
      " 26  market_segment_Complementary    119390 non-null  int64  \n",
      " 27  market_segment_Corporate        119390 non-null  int64  \n",
      " 28  market_segment_Direct           119390 non-null  int64  \n",
      " 29  market_segment_Groups           119390 non-null  int64  \n",
      " 30  market_segment_Offline TA/TO    119390 non-null  int64  \n",
      " 31  market_segment_Online TA        119390 non-null  int64  \n",
      " 32  market_segment_Undefined        119390 non-null  int64  \n",
      " 33  assigned_room_type_A            119390 non-null  int64  \n",
      " 34  assigned_room_type_B            119390 non-null  int64  \n",
      " 35  assigned_room_type_C            119390 non-null  int64  \n",
      " 36  assigned_room_type_D            119390 non-null  int64  \n",
      " 37  assigned_room_type_E            119390 non-null  int64  \n",
      " 38  assigned_room_type_F            119390 non-null  int64  \n",
      " 39  assigned_room_type_G            119390 non-null  int64  \n",
      " 40  assigned_room_type_H            119390 non-null  int64  \n",
      " 41  assigned_room_type_I            119390 non-null  int64  \n",
      " 42  assigned_room_type_K            119390 non-null  int64  \n",
      " 43  assigned_room_type_L            119390 non-null  int64  \n",
      " 44  assigned_room_type_P            119390 non-null  int64  \n",
      " 45  reserved_room_type_A            119390 non-null  int64  \n",
      " 46  reserved_room_type_B            119390 non-null  int64  \n",
      " 47  reserved_room_type_C            119390 non-null  int64  \n",
      " 48  reserved_room_type_D            119390 non-null  int64  \n",
      " 49  reserved_room_type_E            119390 non-null  int64  \n",
      " 50  reserved_room_type_F            119390 non-null  int64  \n",
      " 51  reserved_room_type_G            119390 non-null  int64  \n",
      " 52  reserved_room_type_H            119390 non-null  int64  \n",
      " 53  reserved_room_type_L            119390 non-null  int64  \n",
      " 54  reserved_room_type_P            119390 non-null  int64  \n",
      " 55  arrival_date_month_April        119390 non-null  int64  \n",
      " 56  arrival_date_month_August       119390 non-null  int64  \n",
      " 57  arrival_date_month_December     119390 non-null  int64  \n",
      " 58  arrival_date_month_February     119390 non-null  int64  \n",
      " 59  arrival_date_month_January      119390 non-null  int64  \n",
      " 60  arrival_date_month_July         119390 non-null  int64  \n",
      " 61  arrival_date_month_June         119390 non-null  int64  \n",
      " 62  arrival_date_month_March        119390 non-null  int64  \n",
      " 63  arrival_date_month_May          119390 non-null  int64  \n",
      " 64  arrival_date_month_November     119390 non-null  int64  \n",
      " 65  arrival_date_month_October      119390 non-null  int64  \n",
      " 66  arrival_date_month_September    119390 non-null  int64  \n",
      " 67  deposit_type_No Deposit         119390 non-null  int64  \n",
      " 68  deposit_type_Non Refund         119390 non-null  int64  \n",
      " 69  deposit_type_Refundable         119390 non-null  int64  \n",
      " 70  customer_type_Contract          119390 non-null  int64  \n",
      " 71  customer_type_Group             119390 non-null  int64  \n",
      " 72  customer_type_Transient         119390 non-null  int64  \n",
      " 73  customer_type_Transient-Party   119390 non-null  int64  \n",
      "dtypes: float64(1), int64(73)\n",
      "memory usage: 67.4 MB\n"
     ]
    }
   ],
   "source": [
    "x_features.info() "
   ]
  },
  {
   "cell_type": "markdown",
   "id": "c46a8c83-dae0-4d30-be95-f1caafd320ca",
   "metadata": {},
   "source": [
    "## Create x and y tensors"
   ]
  },
  {
   "cell_type": "markdown",
   "id": "f6747d82-b7d1-416f-9585-7042f5969f21",
   "metadata": {},
   "source": [
    "Import the following PyTorch modules for our neural network model:\n",
    "\n",
    "- `torch`: Core PyTorch functionality\n",
    "- `torch.nn`: Neural network layers and components\n",
    "- `torch.optim`: Optimization algorithms for model training"
   ]
  },
  {
   "cell_type": "code",
   "execution_count": 14,
   "id": "c93b4835-1e2b-4527-833f-3719a2d0b6be",
   "metadata": {},
   "outputs": [
    {
     "name": "stdout",
     "output_type": "stream",
     "text": [
      "Requirement already satisfied: torch in /opt/anaconda3/lib/python3.11/site-packages (2.4.1)\n",
      "Requirement already satisfied: filelock in /opt/anaconda3/lib/python3.11/site-packages (from torch) (3.13.1)\n",
      "Requirement already satisfied: typing-extensions>=4.8.0 in /opt/anaconda3/lib/python3.11/site-packages (from torch) (4.9.0)\n",
      "Requirement already satisfied: sympy in /opt/anaconda3/lib/python3.11/site-packages (from torch) (1.12)\n",
      "Requirement already satisfied: networkx in /opt/anaconda3/lib/python3.11/site-packages (from torch) (3.1)\n",
      "Requirement already satisfied: jinja2 in /opt/anaconda3/lib/python3.11/site-packages (from torch) (3.1.3)\n",
      "Requirement already satisfied: fsspec in /opt/anaconda3/lib/python3.11/site-packages (from torch) (2023.10.0)\n",
      "Requirement already satisfied: MarkupSafe>=2.0 in /opt/anaconda3/lib/python3.11/site-packages (from jinja2->torch) (2.1.3)\n",
      "Requirement already satisfied: mpmath>=0.19 in /opt/anaconda3/lib/python3.11/site-packages (from sympy->torch) (1.3.0)\n",
      "Note: you may need to restart the kernel to use updated packages.\n"
     ]
    }
   ],
   "source": [
    "pip install torch"
   ]
  },
  {
   "cell_type": "code",
   "execution_count": 77,
   "id": "ea167c52-bedd-4988-9e16-d458126809c0",
   "metadata": {},
   "outputs": [],
   "source": [
    "import torch\n",
    "import torch.nn as nn\n",
    "import torch.optim as optim"
   ]
  },
  {
   "cell_type": "markdown",
   "id": "6a2e3c8b-efd3-457c-ad4f-cca6fa6288c7",
   "metadata": {},
   "source": [
    "Converting Features and Target to PyTorch Tensors\n",
    "We convert our feature matrix (X) and target variable (y) to PyTorch tensors:\n",
    "\n",
    "- `X`: Convert features to float32 tensor for model input\n",
    "- `y`: Convert target to long tensor for classification labels\n",
    "\n",
    "This transformation prepares our data for use with PyTorch models, ensuring compatibility and efficient computation."
   ]
  },
  {
   "cell_type": "code",
   "execution_count": 78,
   "id": "87429dba-6120-453e-bd5a-9a062abe6160",
   "metadata": {},
   "outputs": [],
   "source": [
    "X = torch.tensor(x_features.values, dtype=torch.float32)\n",
    "y = torch.tensor(hotels['reservation_status'].values, dtype=torch.long)"
   ]
  },
  {
   "cell_type": "markdown",
   "id": "e0556ac1-bdb5-449b-af6a-1be6d927e479",
   "metadata": {},
   "source": [
    "### Split the data to test and train \n",
    "\n",
    "We divide our dataset into training and test sets:\n",
    "- Train the model on a majority of the data (80%)\n",
    "- Reserve a portion (20%) for testing the model's performance"
   ]
  },
  {
   "cell_type": "code",
   "execution_count": 79,
   "id": "9ca6755b-726a-4b38-a055-f3208ab25e79",
   "metadata": {},
   "outputs": [
    {
     "name": "stdout",
     "output_type": "stream",
     "text": [
      "Training Shape: torch.Size([95512, 74])\n",
      "Testing Shape: torch.Size([23878, 74])\n"
     ]
    }
   ],
   "source": [
    "from sklearn.model_selection import train_test_split\n",
    "X_train, X_test, y_train, y_test = train_test_split(X, y, train_size = 0.8, test_size = 0.2, random_state = 12)\n",
    "\n",
    "print(\"Training Shape:\", X_train.shape)\n",
    "print(\"Testing Shape:\", X_test.shape)\n",
    "\n",
    "from sklearn.preprocessing import StandardScaler\n",
    "\n",
    "scaler = StandardScaler()\n",
    "X_train = torch.tensor(scaler.fit_transform(X_train), dtype=torch.float32)\n",
    "X_test = torch.tensor(scaler.transform(X_test), dtype=torch.float32)"
   ]
  },
  {
   "cell_type": "code",
   "execution_count": 80,
   "id": "f595e890-1dc5-4281-b48c-8c8647e6d23a",
   "metadata": {},
   "outputs": [],
   "source": [
    "#nan_columns = torch.isnan(X_train).any(dim=0)\n",
    "#print(\"Columns with NaN:\", nan_columns.nonzero().squeeze())"
   ]
  },
  {
   "cell_type": "markdown",
   "id": "590dc3ca-5219-457e-82af-735b02f34c35",
   "metadata": {},
   "source": [
    "### Defining the Neural Network Architecture\n",
    "\n",
    "We create a feedforward neural network for our hotel cancellation prediction task:\n",
    "1. <B>Input layer</b>: Accepts 74 features\n",
    "2. <B>First hidden layer</b>: 74 neurons with ReLU activation\n",
    "3. <B>Second hidden layer</b>: 36 neurons with ReLU activation\n",
    "4. <B>Output layer</b>: 3 neurons (one for each possible reservation status)"
   ]
  },
  {
   "cell_type": "code",
   "execution_count": 86,
   "id": "daa52dd9-9dc1-42c3-9d89-80440b126dd0",
   "metadata": {},
   "outputs": [],
   "source": [
    "torch.manual_seed(12)\n",
    "\n",
    "neural_net = nn.Sequential(\n",
    "    nn.Linear(74, 74),\n",
    "    nn.ReLU(),\n",
    "    nn.Linear(74, 36),\n",
    "    nn.ReLU(),\n",
    "    nn.Linear(36, 3)\n",
    ")"
   ]
  },
  {
   "cell_type": "markdown",
   "id": "f24109ee-5639-496c-8e0c-842b9bd7816e",
   "metadata": {},
   "source": [
    "### Defining the Loss Function\n",
    "We use Cross-Entropy Loss for our model. This function quantifies the difference between our model's predictions and the actual reservation statuses, providing a measure of our model's performance during training."
   ]
  },
  {
   "cell_type": "code",
   "execution_count": 88,
   "id": "e911397f-fa41-49ab-b6d1-0de5c2ea01b7",
   "metadata": {},
   "outputs": [],
   "source": [
    "loss = nn.CrossEntropyLoss()"
   ]
  },
  {
   "cell_type": "markdown",
   "id": "0abdc0df-857e-46ec-aaa7-7400ca13bb1f",
   "metadata": {},
   "source": [
    "### Defining the Loss Function\n",
    "We use the Adam optimizer for training our neural network. Adam adapts the learning rate for each parameter, which can lead to faster convergence and better performance, especially for problems with sparse gradients or noisy data."
   ]
  },
  {
   "cell_type": "code",
   "execution_count": 89,
   "id": "917540dd-03f3-426a-b507-ccc089c602ad",
   "metadata": {},
   "outputs": [],
   "source": [
    "optimizer = optim.Adam(neural_net.parameters(), lr=0.01)"
   ]
  },
  {
   "cell_type": "markdown",
   "id": "e4385b53-e04c-48c3-bfed-e4aa0ab66160",
   "metadata": {},
   "source": [
    "### Training the Neural Network!\n",
    "\n",
    "Training the Neural Network\n",
    "We implement a training loop to optimize our model:\n",
    "\n",
    "1. Set the number of epochs (500)\n",
    "2. For each epoch:\n",
    "- Generate predictions\n",
    "- Calculate loss\n",
    "- Perform backpropagation\n",
    "- Update model parameters\n",
    "3. Every 100 epochs:\n",
    "- Compute and display training accuracy\n",
    "- Print progress (epoch number, loss, accuracy)\n",
    "\n",
    "This process iteratively improves our model's ability to predict hotel reservation statuses, allowing us to monitor its performance throughout training."
   ]
  },
  {
   "cell_type": "code",
   "execution_count": 90,
   "id": "7a1f3529-28e9-4597-85bb-b5ec1cb70805",
   "metadata": {},
   "outputs": [
    {
     "name": "stdout",
     "output_type": "stream",
     "text": [
      "Epoch [100/500], CELoss: 0.3836, Accuracy: 0.8358\n",
      "Epoch [200/500], CELoss: 0.3562, Accuracy: 0.8492\n",
      "Epoch [300/500], CELoss: 0.3485, Accuracy: 0.8501\n",
      "Epoch [400/500], CELoss: 0.3401, Accuracy: 0.8552\n",
      "Epoch [500/500], CELoss: 0.3326, Accuracy: 0.8580\n"
     ]
    }
   ],
   "source": [
    "from sklearn.metrics import accuracy_score\n",
    "\n",
    "num_epochs = 500\n",
    "for epoch in range(num_epochs):\n",
    "    predictions = neural_net(X_train)\n",
    "    CELoss = loss(predictions, y_train)\n",
    "    CELoss.backward()\n",
    "    optimizer.step()\n",
    "    optimizer.zero_grad()\n",
    "\n",
    "    if (epoch + 1) % 100 == 0:\n",
    "        predicted_labels = torch.argmax(predictions, dim=1)\n",
    "        accuracy = accuracy_score(y_train, predicted_labels)\n",
    "        print(f'Epoch [{epoch+1}/{num_epochs}], CELoss: {CELoss.item():.4f}, Accuracy: {accuracy.item():.4f}')"
   ]
  },
  {
   "cell_type": "markdown",
   "id": "519214d8-0a81-4759-af17-40615815c43c",
   "metadata": {},
   "source": [
    "## Evaluating the Model\n",
    "After training, we use our model to make predictions on the test set."
   ]
  },
  {
   "cell_type": "code",
   "execution_count": 93,
   "id": "49ae1321-2769-4ab0-9610-ea1be8300ac4",
   "metadata": {},
   "outputs": [],
   "source": [
    "neural_net.eval()\n",
    "with torch.no_grad():\n",
    "    neural_net_predictions = neural_net(X_test)\n",
    "    neural_nets_predicted_labels = torch.argmax(neural_net_predictions, dim=1)"
   ]
  },
  {
   "cell_type": "markdown",
   "id": "4fba7af4-6ee3-4d45-bb8c-37b2bf3f62d2",
   "metadata": {},
   "source": [
    "We calculate and display the model's performance metrics on the test set. This includes overall accuracy and a detailed classification report. These metrics provide insights into how well our neural network predicts each class of hotel reservation status, helping us assess its effectiveness and identify any areas for improvement."
   ]
  },
  {
   "cell_type": "code",
   "execution_count": 94,
   "id": "c171c275-4416-4758-b045-9038f940e926",
   "metadata": {},
   "outputs": [
    {
     "name": "stdout",
     "output_type": "stream",
     "text": [
      "Accuracy: 0.8384\n",
      "Classification Report:\n",
      "               precision    recall  f1-score   support\n",
      "\n",
      "           0       1.00      0.02      0.04       241\n",
      "           1       0.83      0.73      0.78      8711\n",
      "           2       0.84      0.91      0.88     14926\n",
      "\n",
      "    accuracy                           0.84     23878\n",
      "   macro avg       0.89      0.56      0.57     23878\n",
      "weighted avg       0.84      0.84      0.83     23878\n",
      "\n"
     ]
    }
   ],
   "source": [
    "from sklearn.metrics import accuracy_score, classification_report\n",
    "\n",
    "neural_net_accuracy = accuracy_score(y_test, neural_nets_predicted_labels)\n",
    "print(f'Accuracy: {neural_net_accuracy.item():.4f}')\n",
    "\n",
    "neural_net_report = classification_report(y_test, neural_nets_predicted_labels)\n",
    "print(\"Classification Report:\\n\", neural_net_report)"
   ]
  },
  {
   "cell_type": "markdown",
   "id": "1d567d82-abb6-4159-b728-ade263cde65f",
   "metadata": {},
   "source": [
    "### Summary of Model Performance\n",
    "\n",
    "Our neural network achieved an overall accuracy of 83.84% on the test set. Breaking down the performance:\n",
    "\n",
    "1. <b>Strong performance</b> on 'Checked-Out' and 'Canceled' reservations.\n",
    "2. <b>Poor recall</b> for 'No-Show' reservations, despite high precision.\n",
    "\n",
    "Importantly, we previously observed that only 1% of our data represents 'No-Show' cases. This severe class imbalance explains the model's struggle with this category. The low performance on 'No-Show' cases is likely due to insufficient representation in the training data.\n",
    "This imbalance presents a challenge in accurately predicting rare events, highlighting the need for strategies to address class imbalance in future iterations of the model."
   ]
  },
  {
   "cell_type": "markdown",
   "id": "d830a0ef-c565-4d86-a02f-e32a743047b7",
   "metadata": {},
   "source": [
    "## Calculate Cancellation Fee \n",
    "### Define the Cancellation Fee Calculator Function\n",
    "We should define our main function that calculates the cancellation fee based on the model's output and the booking price. This function implements the tiered fee structure we discussed earlier."
   ]
  },
  {
   "cell_type": "code",
   "execution_count": 100,
   "id": "b2692d00-05d7-48bc-b8c5-f54eb440f13e",
   "metadata": {},
   "outputs": [],
   "source": [
    "def predict_and_calculate_fee(features, booking_price, model, scaler, expected_features=74):\n",
    "    # Handle missing or empty features\n",
    "    processed_features = []\n",
    "    for feature in features:\n",
    "        if feature is None or feature == '':\n",
    "            processed_features.append(0)  # Replace missing values with 0\n",
    "        else:\n",
    "            processed_features.append(float(feature))\n",
    "    \n",
    "    # Ensure we have the expected number of features\n",
    "    if len(processed_features) < expected_features:\n",
    "        processed_features.extend([0] * (expected_features - len(processed_features)))\n",
    "    elif len(processed_features) > expected_features:\n",
    "        processed_features = processed_features[:expected_features]\n",
    "    \n",
    "    # Convert to numpy array and reshape\n",
    "    features_array = np.array(processed_features).reshape(1, -1)\n",
    "    \n",
    "    # Scale features\n",
    "    scaled_features = torch.tensor(scaler.transform(features_array), dtype=torch.float32)\n",
    "    \n",
    "    # Get model prediction\n",
    "    model.eval()\n",
    "    with torch.no_grad():\n",
    "        output = model(scaled_features)\n",
    "        probabilities = torch.softmax(output, dim=1)\n",
    "    \n",
    "    # Extract cancellation probability (assuming 'Canceled' is index 1)\n",
    "    cancel_prob = probabilities[0, 1].item()\n",
    "    \n",
    "    # Calculate fee\n",
    "    if cancel_prob <= 0.25:\n",
    "        fee = booking_price * 0.10\n",
    "    elif cancel_prob <= 0.50:\n",
    "        fee = booking_price * 0.25\n",
    "    elif cancel_prob <= 0.75:\n",
    "        fee = booking_price * 0.50\n",
    "    else:\n",
    "        fee = booking_price * 0.75\n",
    "    \n",
    "    return cancel_prob, fee"
   ]
  },
  {
   "cell_type": "markdown",
   "id": "c62ca410-2a17-45f2-9106-b6e7d494db02",
   "metadata": {},
   "source": [
    "### Test the function with complete data  "
   ]
  },
  {
   "cell_type": "code",
   "execution_count": 102,
   "id": "897d8f8e-9399-43fc-8bd0-8db0aceb4edc",
   "metadata": {},
   "outputs": [
    {
     "name": "stdout",
     "output_type": "stream",
     "text": [
      "Cancellation Probability: 0.06\n",
      "Calculated Fee: $75.00\n"
     ]
    }
   ],
   "source": [
    "# Test case for a hypothetical hotel reservation\n",
    "test_reservation = [\n",
    "    30,     # lead_time (30 days)\n",
    "    2,      # stays_in_weekend_nights\n",
    "    3,      # stays_in_week_nights\n",
    "    2,      # adults\n",
    "    0,      # babies\n",
    "    0,      # is_repeated_guest (0 for No, 1 for Yes)\n",
    "    0,      # previous_cancellations\n",
    "    0,      # previous_bookings_not_canceled\n",
    "    1,      # booking_changes\n",
    "    0,      # days_in_waiting_list\n",
    "    150.0,  # adr (average daily rate)\n",
    "    0,      # required_car_parking_spaces\n",
    "    1,      # total_of_special_requests\n",
    "    0, 1, 0, 0, 0,  # distribution_channel (Direct)\n",
    "    1, 0,  # hotel (City Hotel)\n",
    "    1, 0, 0, 0, 0,  # meal (BB - Bed & Breakfast)\n",
    "    0, 0, 0, 1, 0, 0, 0, 0,  # market_segment (Direct)\n",
    "    1, 0, 0, 0, 0, 0, 0, 0, 0, 0, 0, 0,  # assigned_room_type (A)\n",
    "    1, 0, 0, 0, 0, 0, 0, 0, 0, 0,  # reserved_room_type (A)\n",
    "    0, 0, 0, 0, 0, 0, 1, 0, 0, 0, 0, 0,  # arrival_date_month (July)\n",
    "    1, 0, 0,  # deposit_type (No Deposit)\n",
    "    0, 0, 1, 0  # customer_type (Transient)\n",
    "]\n",
    "\n",
    "# Booking price (can be different from adr * number of nights if there are discounts or fees)\n",
    "test_booking_price = 750.0\n",
    "\n",
    "# Now you can use this test case with your prediction and fee calculation function\n",
    "cancel_prob, fee = predict_and_calculate_fee(test_reservation, test_booking_price, neural_net, scaler)\n",
    "\n",
    "print(f\"Cancellation Probability: {cancel_prob:.2f}\")\n",
    "print(f\"Calculated Fee: ${fee:.2f}\")"
   ]
  },
  {
   "cell_type": "markdown",
   "id": "60363dd4-8f0b-4476-802a-d3ceab69c366",
   "metadata": {},
   "source": [
    "### Test the function with partial data "
   ]
  },
  {
   "cell_type": "code",
   "execution_count": 104,
   "id": "2e2e45a3-c02a-495a-a586-4193bfb23fae",
   "metadata": {},
   "outputs": [
    {
     "name": "stdout",
     "output_type": "stream",
     "text": [
      "Cancellation Probability: 0.21\n",
      "Calculated Fee: $75.00\n"
     ]
    }
   ],
   "source": [
    "# Example usage with missing features\n",
    "incomplete_reservation = [30, 2, 3, 2, None, '', 0, 0, 1]  # Only 9 features provided\n",
    "booking_price = 750.0\n",
    "\n",
    "try:\n",
    "    cancel_prob, fee = predict_and_calculate_fee(incomplete_reservation, booking_price, neural_net, scaler)\n",
    "    print(f\"Cancellation Probability: {cancel_prob:.2f}\")\n",
    "    print(f\"Calculated Fee: ${fee:.2f}\")\n",
    "except Exception as e:\n",
    "    print(f\"An error occurred: {e}\")"
   ]
  },
  {
   "cell_type": "code",
   "execution_count": null,
   "id": "1cff20e9-862a-4a7a-9a5c-6f7a3955738e",
   "metadata": {},
   "outputs": [],
   "source": []
  }
 ],
 "metadata": {
  "kernelspec": {
   "display_name": "Python 3 (ipykernel)",
   "language": "python",
   "name": "python3"
  },
  "language_info": {
   "codemirror_mode": {
    "name": "ipython",
    "version": 3
   },
   "file_extension": ".py",
   "mimetype": "text/x-python",
   "name": "python",
   "nbconvert_exporter": "python",
   "pygments_lexer": "ipython3",
   "version": "3.11.7"
  }
 },
 "nbformat": 4,
 "nbformat_minor": 5
}
